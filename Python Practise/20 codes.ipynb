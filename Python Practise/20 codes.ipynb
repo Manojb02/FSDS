{
 "cells": [
  {
   "cell_type": "code",
   "execution_count": 1,
   "metadata": {},
   "outputs": [
    {
     "data": {
      "text/plain": [
       "5"
      ]
     },
     "execution_count": 1,
     "metadata": {},
     "output_type": "execute_result"
    }
   ],
   "source": [
    "# 1) You have to write a func  which will take string and return a len of it without using inbuilt function \n",
    "def length(l):\n",
    "\n",
    "    m = 0\n",
    "    if type(l)==str:\n",
    "            for i in l:\n",
    "                m= m+1\n",
    "            return m\n",
    "    else :\n",
    "        print (\"Please pass string \")\n",
    "        \n",
    "\n",
    "length (\"check\")\n",
    "        "
   ]
  },
  {
   "cell_type": "code",
   "execution_count": 2,
   "metadata": {},
   "outputs": [
    {
     "name": "stdout",
     "output_type": "stream",
     "text": [
      "0 is index number of: a\n",
      "1 is index number of: n\n",
      "2 is index number of: o\n",
      "3 is index number of: j\n"
     ]
    }
   ],
   "source": [
    "#2) to check the index number for the element\n",
    "\n",
    "def check(a):\n",
    "    if type(a)== str or type(a)==list or type(a)==tuple:\n",
    "            for i in range (0,len(a)):\n",
    "                        print(i, \"is index number of:\", a[i])\n",
    "    else :\n",
    "        print (\"Wrong type\")\n",
    "\n",
    "\n",
    "        \n",
    "check(\"anoj\")"
   ]
  },
  {
   "cell_type": "code",
   "execution_count": 3,
   "metadata": {},
   "outputs": [
    {
     "name": "stdout",
     "output_type": "stream",
     "text": [
      "[123, 232, 1, 2, 3, 4, 'man', 14, 10, 4, 45, 34, 1]\n"
     ]
    }
   ],
   "source": [
    "#3) Write a fun which will take input as a dict and give me output as a list of values even in case of 2 level nesting it \n",
    "\n",
    "def check1(a):\n",
    "    k1= []\n",
    "    if type(a)==dict:\n",
    "        for i in a.values():\n",
    "            if  type(i)==tuple or type(i)==set or type(i)==list:\n",
    "                for j in i:\n",
    "                    k1.append(j)\n",
    "            elif type(i)== dict:\n",
    "                for k in i.values():\n",
    "                    k1.append(k)\n",
    "                    \n",
    "            else:\n",
    "                k1.append(i)\n",
    "        print(k1)\n",
    "                    \n",
    "check1({\"a\":123,\"b\": 232,\"c\":{1,2,3,4,\"man\"},\"ineruon\":{\"a\":14,\"b\":10,\"c\":4},\"course\" :{\"d\":45,\"e\":34,\"f\":1}})          "
   ]
  },
  {
   "cell_type": "code",
   "execution_count": 4,
   "metadata": {},
   "outputs": [
    {
     "data": {
      "text/plain": [
       "[2, 4, 6, 88, 98, 100]"
      ]
     },
     "execution_count": 4,
     "metadata": {},
     "output_type": "execute_result"
    }
   ],
   "source": [
    "#4) write a fun which will take another fun as an input return me an output \n",
    "def even(a):\n",
    "    l1 = []\n",
    "    for i in a:\n",
    "        if i%2==0:\n",
    "            l1.append(i)\n",
    "        else:\n",
    "            pass\n",
    "    return l1\n",
    "            \n",
    "even([1,2,3,4,5,6,67,77,88,98,100])\n",
    "            "
   ]
  },
  {
   "cell_type": "code",
   "execution_count": 5,
   "metadata": {},
   "outputs": [
    {
     "data": {
      "text/plain": [
       "12"
      ]
     },
     "execution_count": 5,
     "metadata": {},
     "output_type": "execute_result"
    }
   ],
   "source": [
    "def summation(b):\n",
    "    k=even(b)\n",
    "    l2 = 0\n",
    "    for i in k:\n",
    "        l2 = l2+i\n",
    "        \n",
    "    return l2\n",
    "\n",
    "summation([2,3,4,5,6])"
   ]
  },
  {
   "cell_type": "code",
   "execution_count": 6,
   "metadata": {},
   "outputs": [
    {
     "name": "stdout",
     "output_type": "stream",
     "text": [
      "Enter len of list:4\n",
      "Enter the number of list :w\n",
      "Enter the number of list :e\n",
      "Enter the number of list :2\n",
      "Enter the number of list :3\n"
     ]
    },
    {
     "data": {
      "text/plain": [
       "['w', 'e', '2', '3']"
      ]
     },
     "execution_count": 6,
     "metadata": {},
     "output_type": "execute_result"
    }
   ],
   "source": [
    "# 5)write a function whihc will take  list as a input and give me concatnation of all the element as \n",
    "#and output \n",
    "\n",
    "def check():\n",
    "    li = []\n",
    "    a =int(input(\"Enter len of list:\"))\n",
    "    for i in range(0,a):\n",
    "        b = input(\"Enter the number of list :\")\n",
    "        li.append(b)\n",
    "    return (li)\n",
    "        \n",
    "        \n",
    "\n",
    "            \n",
    "check()"
   ]
  },
  {
   "cell_type": "code",
   "execution_count": 7,
   "metadata": {},
   "outputs": [
    {
     "name": "stdout",
     "output_type": "stream",
     "text": [
      "Enter len of list:4\n",
      "Enter the number of list :2\n",
      "Enter the number of list :e\n",
      "Enter the number of list :\n",
      "Enter the number of list :2\n",
      "0 is index number of  2\n",
      "1 is index number of  e\n",
      "2 is index number of  \n",
      "3 is index number of  2\n"
     ]
    }
   ],
   "source": [
    "#6) . write a function which will be able to take a list as an input return an index of each element \n",
    "#like a inbuilt index function but even if we have repetative element it should return index\n",
    "\n",
    "def check():\n",
    "    li = []\n",
    "    k =int(input(\"Enter len of list:\"))\n",
    "    for i in range(0,k):\n",
    "        b = input(\"Enter the number of list :\")\n",
    "        li.append(b)\n",
    "    for j in range (len(li)):\n",
    "        print ((j),\"is index number of \",li[j])\n",
    "\n",
    "check()\n"
   ]
  },
  {
   "cell_type": "code",
   "execution_count": 8,
   "metadata": {},
   "outputs": [
    {
     "name": "stdout",
     "output_type": "stream",
     "text": [
      "['.ipynb_checkpoints', '20 codes.ipynb', '20 th Dec.ipynb', '21st Dec.ipynb', '23 Dec.ipynb', '8 jan 22.ipynb', '9 Jan 22.ipynb', 'Assignment 1.ipynb', 'check1', 'check2', 'OIP.jpg', 'test.docx']\n"
     ]
    }
   ],
   "source": [
    "#7) Write a function which will whould return list of all the file name from a directory\n",
    "\n",
    "import os\n",
    "def File_list(a):\n",
    "    print(os.listdir(a))\n",
    "\n",
    "File_list('C:/Users/MANOJ/Desktop/MINE/FSDS')"
   ]
  },
  {
   "cell_type": "code",
   "execution_count": 9,
   "metadata": {},
   "outputs": [
    {
     "name": "stdout",
     "output_type": "stream",
     "text": [
      "System: Windows\n",
      "Node Name: DESKTOP-I74J48L\n",
      "Release: 10\n",
      "Version: 10.0.19042\n",
      "Machine: AMD64\n",
      "Processor: Intel64 Family 6 Model 58 Stepping 9, GenuineIntel\n"
     ]
    }
   ],
   "source": [
    "#8) write a function which will be able to show your system configuration .\n",
    "import platform\n",
    " \n",
    "my_system = platform.uname()\n",
    " \n",
    "print(f\"System: {my_system.system}\")\n",
    "print(f\"Node Name: {my_system.node}\")\n",
    "print(f\"Release: {my_system.release}\")\n",
    "print(f\"Version: {my_system.version}\")\n",
    "print(f\"Machine: {my_system.machine}\")\n",
    "print(f\"Processor: {my_system.processor}\")"
   ]
  },
  {
   "cell_type": "code",
   "execution_count": 10,
   "metadata": {},
   "outputs": [
    {
     "name": "stdout",
     "output_type": "stream",
     "text": [
      "2022-01-12 01:13:52.400805\n"
     ]
    }
   ],
   "source": [
    "# 9) write a function which will be able to show date and time \n",
    "import datetime\n",
    "def date_time():\n",
    "    date = datetime.datetime.now()\n",
    "    print(date)\n",
    "date_time()"
   ]
  },
  {
   "cell_type": "code",
   "execution_count": 11,
   "metadata": {},
   "outputs": [
    {
     "data": {
      "image/png": "[encoded data removed]",
      "text/plain": [
       "<Figure size 432x288 with 1 Axes>"
      ]
     },
     "metadata": {
      "needs_background": "light"
     },
     "output_type": "display_data"
    }
   ],
   "source": [
    "#10)write a function whihc will be able to read a image file and show it to you \n",
    "import matplotlib.image as m\n",
    "import matplotlib.pyplot as plt\n",
    "def image():\n",
    "    img = m.imread(\"OIP.jpg\")\n",
    "    plt.imshow(img)\n",
    "    \n",
    "image()\n",
    "  \n"
   ]
  },
  {
   "cell_type": "code",
   "execution_count": 12,
   "metadata": {},
   "outputs": [],
   "source": [
    "#12. write a function whihc can move a file from one directory to another directory \n",
    "import os\n",
    "import shutil\n",
    "def move():\n",
    "    source = \"C:/Users/MANOJ/Desktop/MINE/FSDS/check1/\"\n",
    "    destination = \"C:/Users/MANOJ/Desktop/MINE/FSDS/check2/\"\n",
    "    allfiles = os.listdir(source)\n",
    "    for f in allfiles:\n",
    "        shutil.move(source + f, destination + f)\n",
    "move() "
   ]
  },
  {
   "cell_type": "code",
   "execution_count": 13,
   "metadata": {},
   "outputs": [
    {
     "name": "stdout",
     "output_type": "stream",
     "text": [
      "Do you want to shutdown your system (y/n) :n\n"
     ]
    }
   ],
   "source": [
    "#13) shut down your PC\n",
    "def shutdown():\n",
    "    import os\n",
    "    shut = input(\"Do you want to shutdown your system (y/n) :\")\n",
    "    if shut =='n':\n",
    "        exit()\n",
    "    else:\n",
    "        os.system(\"shutdown/s/t 1\")\n",
    "    \n",
    "\n",
    "shutdown()"
   ]
  },
  {
   "cell_type": "code",
   "execution_count": 14,
   "metadata": {},
   "outputs": [
    {
     "name": "stdout",
     "output_type": "stream",
     "text": [
      "Hey!!! Hi , How are you?\n"
     ]
    }
   ],
   "source": [
    "#17)write a function to read a word file \n",
    "def word():\n",
    "    import docx2txt\n",
    "    my_text = docx2txt.process(\"test.docx\")\n",
    "    print(my_text)\n",
    "word()"
   ]
  },
  {
   "cell_type": "code",
   "execution_count": 15,
   "metadata": {},
   "outputs": [
    {
     "name": "stdout",
     "output_type": "stream",
     "text": [
      "Your Computer Name is:DESKTOP-I74J48L\n",
      "Your Computer IP Address is:192.168.0.105\n"
     ]
    }
   ],
   "source": [
    "#19 . write a function by which you can print an ip address of your system \n",
    "def ip():\n",
    "    import socket \n",
    "    hostname =socket.gethostname()\n",
    "    ipaddress = socket.gethostbyname(hostname)\n",
    "    print(\"Your Computer Name is:\" + hostname)   \n",
    "    print(\"Your Computer IP Address is:\" + ipaddress) \n",
    "    \n",
    "ip()"
   ]
  },
  {
   "cell_type": "code",
   "execution_count": null,
   "metadata": {},
   "outputs": [],
   "source": []
  },
  {
   "cell_type": "code",
   "execution_count": null,
   "metadata": {},
   "outputs": [],
   "source": []
  }
 ],
 "metadata": {
  "kernelspec": {
   "display_name": "Python 3 (ipykernel)",
   "language": "python",
   "name": "python3"
  },
  "language_info": {
   "codemirror_mode": {
    "name": "ipython",
    "version": 3
   },
   "file_extension": ".py",
   "mimetype": "text/x-python",
   "name": "python",
   "nbconvert_exporter": "python",
   "pygments_lexer": "ipython3",
   "version": "3.9.7"
  }
 },
 "nbformat": 4,
 "nbformat_minor": 2
}
