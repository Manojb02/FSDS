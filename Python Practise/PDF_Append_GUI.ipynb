{
 "cells": [
  {
   "cell_type": "code",
   "execution_count": 1,
   "id": "13afea9f",
   "metadata": {},
   "outputs": [],
   "source": [
    "from tkinter import *\n",
    "import os\n",
    "\n",
    "a_root = Tk()\n",
    "a_root.geometry(\"800x534\")\n",
    "\n",
    "# Creating Entry  blocks\n",
    "entry1 =Entry(a_root )\n",
    "entry1.grid(row = 5, column = 5)\n",
    "\n",
    "entry2 =Entry(a_root )\n",
    "entry2.grid(row = 12, column = 5)\n",
    "\n",
    "# Creating Function to be used in button and insert value in entry blocks\n",
    "def pdf_count():\n",
    "    l = []\n",
    "    for i in os.listdir('.'):\n",
    "        if i.endswith('.pdf'):\n",
    "            l.append(i)\n",
    "    m = len(l)\n",
    "    entry1.insert(0,m)\n",
    "\n",
    "def pdf_append():\n",
    "    from PyPDF2 import PdfFileMerger\n",
    "    pdfs = []\n",
    "    for i in os.listdir('.'):\n",
    "        if i.endswith('.pdf'):\n",
    "            pdfs.append(i)\n",
    "    merger = PdfFileMerger()\n",
    "    for pdf in pdfs:\n",
    "        merger.append(pdf)\n",
    "\n",
    "    merger.write(\"result.pdf\")\n",
    "    merger.close()\n",
    "    entry2.insert(0,\"successfully append\")\n",
    "    \n",
    "# create labels\n",
    "PDF_Files = Label(a_root ,text=\"How many PDF files \", bg=\"black\",fg='white')\n",
    "PDF_Files.grid(row=5, column=1)\n",
    "\n",
    "PDF_concatenation = Label(a_root,text = \"PDF_ concatenation\",bg = \"Black\",fg = 'white')\n",
    "PDF_concatenation.grid(row = 0, column = 30)\n",
    "    \n",
    "#Creating Tittle\n",
    "a_root.title(\"To Concatenate PDF\")\n",
    "\n",
    "#creating Buttons\n",
    "button1 = Button(a_root,fg = \"blue\",bg = \"white\" ,text = \"check PDF\",command = pdf_count)\n",
    "button1.grid(row = 1, column = 1)\n",
    "\n",
    "button2 = Button (a_root ,fg = \"blue\" , bg = \"white\" , text = \"append PDF\" , command = pdf_append  )\n",
    "button2.grid(row = 10, column = 1)\n",
    "\n",
    "a_root.mainloop()"
   ]
  },
  {
   "cell_type": "code",
   "execution_count": null,
   "id": "5c212e49",
   "metadata": {},
   "outputs": [],
   "source": []
  }
 ],
 "metadata": {
  "kernelspec": {
   "display_name": "Python 3 (ipykernel)",
   "language": "python",
   "name": "python3"
  },
  "language_info": {
   "codemirror_mode": {
    "name": "ipython",
    "version": 3
   },
   "file_extension": ".py",
   "mimetype": "text/x-python",
   "name": "python",
   "nbconvert_exporter": "python",
   "pygments_lexer": "ipython3",
   "version": "3.9.7"
  }
 },
 "nbformat": 4,
 "nbformat_minor": 5
}
