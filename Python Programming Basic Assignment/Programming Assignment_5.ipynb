{
 "cells": [
  {
   "cell_type": "markdown",
   "id": "0c0a47a9",
   "metadata": {},
   "source": [
    "# 1) Write a Python Program to find LCM?"
   ]
  },
  {
   "cell_type": "code",
   "execution_count": 1,
   "id": "983fdcbb",
   "metadata": {},
   "outputs": [
    {
     "name": "stdout",
     "output_type": "stream",
     "text": [
      "How many numbers :4\n",
      "Enter the number 3\n",
      "Enter the number 4\n",
      "Enter the number 6\n",
      "Enter the number 9\n",
      "LCM is  36\n"
     ]
    }
   ],
   "source": [
    "def LCM():\n",
    "    l = []\n",
    "    try :\n",
    "        n = int(input(\"How many numbers :\"))\n",
    "    except Exception as e:\n",
    "        print(\"Error\", str(e))\n",
    "    else:\n",
    "        for i in range (1,n+1):\n",
    "            a=int(input(\"Enter the number \"))\n",
    "            l.append(a)\n",
    "        m = max(l)\n",
    "        while True:\n",
    "            for i in l:\n",
    "                if m%i!=0:\n",
    "                    break\n",
    "            else:\n",
    "                print(\"LCM is \" ,m)\n",
    "                break\n",
    "            m = m+1      \n",
    "LCM()"
   ]
  },
  {
   "cell_type": "markdown",
   "id": "293efa74",
   "metadata": {},
   "source": [
    "# 2) Write a Python Program to Find HCF?"
   ]
  },
  {
   "cell_type": "code",
   "execution_count": 2,
   "id": "6b6e45a3",
   "metadata": {},
   "outputs": [
    {
     "name": "stdout",
     "output_type": "stream",
     "text": [
      "How many numbers :2\n",
      "Enter the number 24\n",
      "Enter the number 36\n",
      "HCF is  12\n"
     ]
    }
   ],
   "source": [
    "def HCF():\n",
    "    k = True\n",
    "    l = []\n",
    "    while k: \n",
    "        try :\n",
    "            n = int(input(\"How many numbers :\"))\n",
    "        except Exception as e:\n",
    "            print(\"Please enter integer\")\n",
    "            print(\"Error\", str(e))\n",
    "        else:\n",
    "            k = False\n",
    "            for i in range (1,n+1):\n",
    "                a=int(input(\"Enter the number \"))\n",
    "                l.append(a)\n",
    "            m = min(l)\n",
    "            while True:\n",
    "                for i in l:\n",
    "                    if i%m!=0:\n",
    "                        break\n",
    "                else:\n",
    "                    if m ==1:\n",
    "                        print(\"No HCF for these numbers\")\n",
    "                    else:\n",
    "                        print(\"HCF is \" ,m)\n",
    "                    break\n",
    "                m = m-1\n",
    "HCF()"
   ]
  },
  {
   "cell_type": "markdown",
   "id": "e9619001",
   "metadata": {},
   "source": [
    "# 3)Write a Python Program to Convert Decimal to Binary, Octal and Hexadecimal?"
   ]
  },
  {
   "cell_type": "code",
   "execution_count": 3,
   "id": "e76f2e41",
   "metadata": {},
   "outputs": [
    {
     "name": "stdout",
     "output_type": "stream",
     "text": [
      "Enter decimal number :6\n",
      "The given decimal number 6 in Binary number is:  0b110\n",
      "The given decimal number 6 in Octal number is:  0o6\n",
      "The given decimal number 6  in Hexadecimal number is:  0x6\n"
     ]
    }
   ],
   "source": [
    " \n",
    "def decimal_conversion():  \n",
    "    decimal = int(input(\"Enter decimal number :\"))   \n",
    "    print (\"The given decimal number\", decimal, \"in Binary number is: \", bin(decimal))  \n",
    "    print (\"The given decimal number\", decimal, \"in Octal number is: \", oct(decimal))    \n",
    "    print (\"The given decimal number\", decimal, \" in Hexadecimal number is: \", hex(decimal))  \n",
    "    \n",
    "decimal_conversion()"
   ]
  },
  {
   "cell_type": "markdown",
   "id": "2850c68b",
   "metadata": {},
   "source": [
    "# 4)Write a Python Program To Find ASCII value of a character?"
   ]
  },
  {
   "cell_type": "code",
   "execution_count": 4,
   "id": "4910834a",
   "metadata": {},
   "outputs": [
    {
     "name": "stdout",
     "output_type": "stream",
     "text": [
      "Pleae enter an aphabet :t\n",
      "t 116\n"
     ]
    }
   ],
   "source": [
    "def ASCII(): \n",
    "    m = True\n",
    "    while m:\n",
    "        try:\n",
    "            s = input(\"Pleae enter an aphabet :\")  \n",
    "        except Exception as e:\n",
    "            print (\"Error\" + str(e))\n",
    "        else:\n",
    "            m = False       \n",
    "            ASCII = ord(s)  \n",
    "            print (s , ASCII)  \n",
    "\n",
    "ASCII()"
   ]
  },
  {
   "cell_type": "markdown",
   "id": "0cbd6e3d",
   "metadata": {},
   "source": [
    "# 5) Write a Python Program to Make a Simple Calculator with 4 basic mathematical operations?"
   ]
  },
  {
   "cell_type": "code",
   "execution_count": 5,
   "id": "eb05582c",
   "metadata": {},
   "outputs": [
    {
     "name": "stdout",
     "output_type": "stream",
     "text": [
      "Enter first number :777\n",
      "Enter second number :88\n"
     ]
    }
   ],
   "source": [
    "class calculator:\n",
    "    a = int(input(\"Enter first number :\"))\n",
    "    b = int(input(\"Enter second number :\"))\n",
    "    def __init__(self):\n",
    "        pass\n",
    "        \n",
    "    def addition(self):\n",
    "        c = self.a +self.b\n",
    "        print(c)\n",
    "    def substraction(self):\n",
    "        c = self.a - self.b\n",
    "        print(c)\n",
    "    def multiplication(self):\n",
    "        c = self.a * self.b\n",
    "        print(c)\n",
    "    def division(self):\n",
    "        c = self.a /self.b\n",
    "        print(c)\n",
    "        \n",
    "k = calculator()"
   ]
  },
  {
   "cell_type": "code",
   "execution_count": 6,
   "id": "85cd70a2",
   "metadata": {},
   "outputs": [
    {
     "name": "stdout",
     "output_type": "stream",
     "text": [
      "68376\n"
     ]
    }
   ],
   "source": [
    "k.multiplication()"
   ]
  },
  {
   "cell_type": "code",
   "execution_count": null,
   "id": "88d76801",
   "metadata": {},
   "outputs": [],
   "source": []
  }
 ],
 "metadata": {
  "kernelspec": {
   "display_name": "Python 3 (ipykernel)",
   "language": "python",
   "name": "python3"
  },
  "language_info": {
   "codemirror_mode": {
    "name": "ipython",
    "version": 3
   },
   "file_extension": ".py",
   "mimetype": "text/x-python",
   "name": "python",
   "nbconvert_exporter": "python",
   "pygments_lexer": "ipython3",
   "version": "3.9.7"
  }
 },
 "nbformat": 4,
 "nbformat_minor": 5
}
