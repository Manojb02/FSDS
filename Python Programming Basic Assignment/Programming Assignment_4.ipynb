{
 "cells": [
  {
   "cell_type": "markdown",
   "id": "c04aee47",
   "metadata": {},
   "source": [
    "1) Write a Python Program to Find the Factorial of a Number?"
   ]
  },
  {
   "cell_type": "code",
   "execution_count": 1,
   "id": "0de4d619",
   "metadata": {},
   "outputs": [
    {
     "name": "stdout",
     "output_type": "stream",
     "text": [
      "Enter the number : 6\n",
      "Factorial of 6 is 720\n"
     ]
    }
   ],
   "source": [
    "def factorial():\n",
    "    k = 1\n",
    "    try:\n",
    "        number = int(input(\"Enter the number : \"))\n",
    "    except Exception as e:\n",
    "        print (e)\n",
    "    else:\n",
    "        for i in range (2,number+1):\n",
    "            k=k*i\n",
    "        print(\"Factorial of {} is {}\".format(number ,k))\n",
    "              \n",
    "factorial()\n",
    "            "
   ]
  },
  {
   "cell_type": "markdown",
   "id": "3545f14a",
   "metadata": {},
   "source": [
    "2) Write a Python Program to Display the multiplication Table?"
   ]
  },
  {
   "cell_type": "code",
   "execution_count": 2,
   "id": "afb98ba7",
   "metadata": {},
   "outputs": [
    {
     "name": "stdout",
     "output_type": "stream",
     "text": [
      "Enter the number :4\n",
      "4 * 1 = 4\n",
      "4 * 2 = 8\n",
      "4 * 3 = 12\n",
      "4 * 4 = 16\n",
      "4 * 5 = 20\n",
      "4 * 6 = 24\n",
      "4 * 7 = 28\n",
      "4 * 8 = 32\n",
      "4 * 9 = 36\n",
      "4 * 10 = 40\n"
     ]
    }
   ],
   "source": [
    "def  multiplication():\n",
    "    try :\n",
    "        number = int(input(\"Enter the number :\"))\n",
    "    except Exception as e:\n",
    "        print(e)\n",
    "    else:\n",
    "        for i in range (1,11):\n",
    "            j = i*number\n",
    "            print(\"{} * {} = {}\".format(number,i,j))\n",
    "\n",
    "multiplication()\n",
    "        "
   ]
  },
  {
   "cell_type": "markdown",
   "id": "56cb34d2",
   "metadata": {},
   "source": [
    "3) Write a Python Program to Print the Fibonacci sequence?"
   ]
  },
  {
   "cell_type": "code",
   "execution_count": 3,
   "id": "31efe13c",
   "metadata": {},
   "outputs": [
    {
     "name": "stdout",
     "output_type": "stream",
     "text": [
      "Enter the nth term5\n",
      "0\n",
      "1\n",
      "1\n",
      "2\n",
      "3\n"
     ]
    }
   ],
   "source": [
    "def Fibonacci():\n",
    "    n1,n2 = 0,1\n",
    "    count = 0\n",
    "    m = True\n",
    "    while m:\n",
    "        try:\n",
    "            term = int(input(\"Enter the nth term\"))\n",
    "        except Exception as e:\n",
    "            print(e)\n",
    "        else:\n",
    "            if term<0 or term==0:\n",
    "                print(\"Enter the Positve number\")\n",
    "                continue\n",
    "            else:\n",
    "                m = False\n",
    "                for i in range (1,term+1):# we can use while count<term and than increase count by 1\n",
    "                    print(n1)\n",
    "                    n = n1+n2\n",
    "                    n1=n2\n",
    "                    n2=n\n",
    "                    \n",
    "Fibonacci()\n",
    "               "
   ]
  },
  {
   "cell_type": "markdown",
   "id": "513af8e5",
   "metadata": {},
   "source": [
    "4)Write a Python Program to Check Armstrong Number?"
   ]
  },
  {
   "cell_type": "code",
   "execution_count": 4,
   "id": "a2f7e28c",
   "metadata": {},
   "outputs": [],
   "source": [
    "def Armstrong():\n",
    "    import logging\n",
    "    logging.basicConfig(filename = \"Armstrong.log\" , level = logging.DEBUG ,format = '%(asctime)s %(levelname)s %(message)s')\n",
    "    l = []\n",
    "    try:\n",
    "        number = int(input(\"Pleae enter number to check Armstrong number : \"))\n",
    "        logging.info (\"Enter number is %s\",number)\n",
    "    except Exception as e:\n",
    "        logging.exception(\"Error occured \" + str(e))\n",
    "    else:\n",
    "        b = str(number)\n",
    "        for i in b:\n",
    "            l.append(int(i)**3)\n",
    "        logging.info(l)\n",
    "        if sum(l)==number:\n",
    "            logging.info(\"%s is an Armstrong number\",number)\n",
    "        else:\n",
    "            logging.info(\"%s not an Armstrong number\",number)\n",
    "            \n",
    "            \n",
    "        \n",
    "            \n",
    "        \n",
    "        \n",
    "    "
   ]
  },
  {
   "cell_type": "code",
   "execution_count": 5,
   "id": "5c16b820",
   "metadata": {},
   "outputs": [
    {
     "name": "stdout",
     "output_type": "stream",
     "text": [
      "Pleae enter number to check Armstrong number : 377\n"
     ]
    }
   ],
   "source": [
    "Armstrong()"
   ]
  },
  {
   "cell_type": "markdown",
   "id": "7b49fc6e",
   "metadata": {},
   "source": [
    "5) Write a Python Program to Find Armstrong Number in an Interval?"
   ]
  },
  {
   "cell_type": "code",
   "execution_count": 6,
   "id": "e0bae8fb",
   "metadata": {},
   "outputs": [],
   "source": [
    "def Armstrong_interval():\n",
    "    import logging\n",
    "    logging.basicConfig(filename = \"Armstrong_interval.log\" , level = logging.DEBUG ,format = '%(asctime)s %(levelname)s %(message)s')\n",
    "    l = []\n",
    "    m=[]\n",
    "    \n",
    "    try:\n",
    "        number = int(input(\"Please enter number for  Armstrong number range: \"))\n",
    "        logging.info (\"Enter number is %s\",number)\n",
    "    except Exception as e:\n",
    "        logging.exception(\"Error occured \" + str(e))\n",
    "    else:\n",
    "        for i in range (1,number+1):\n",
    "            b = str(i)\n",
    "            for j in b:\n",
    "                l.append(int(j)**3)\n",
    "                logging.info(l)\n",
    "            if sum(l)==i:\n",
    "                logging.info(\"%s is an Armstrong number\",number)\n",
    "                m.append(i)\n",
    "                l.clear()\n",
    "                logging.info(\"Armstrong list %s\",m)\n",
    "            else:\n",
    "                l.clear()\n",
    "        \n",
    "        logging.info(m)"
   ]
  },
  {
   "cell_type": "code",
   "execution_count": 7,
   "id": "1be827ae",
   "metadata": {},
   "outputs": [
    {
     "name": "stdout",
     "output_type": "stream",
     "text": [
      "Please enter number for  Armstrong number range: 377\n"
     ]
    }
   ],
   "source": [
    "Armstrong_interval()"
   ]
  },
  {
   "cell_type": "markdown",
   "id": "82258bbd",
   "metadata": {},
   "source": [
    "6) Write a Python Program to Find the Sum of Natural Numbers?"
   ]
  },
  {
   "cell_type": "code",
   "execution_count": 8,
   "id": "77d5a96c",
   "metadata": {},
   "outputs": [],
   "source": [
    "def sum():\n",
    "    import logging\n",
    "    logging.basicConfig(filename = \"summation.log\" , level = logging.DEBUG ,format = '%(asctime)s %(levelname)s %(message)s')\n",
    "    l = 0\n",
    "    \n",
    "    try:\n",
    "        number = int(input(\"Please enter number for summation : \"))\n",
    "        logging.info (\"Enter number is %s\",number)\n",
    "    except Exception as e:\n",
    "        logging.exception(\"Error occured \" + str(e))\n",
    "    else:\n",
    "        for i in range(1,number+1):\n",
    "            l = i +l\n",
    "        logging.info(l)\n",
    "        "
   ]
  },
  {
   "cell_type": "code",
   "execution_count": 9,
   "id": "52017ab8",
   "metadata": {},
   "outputs": [
    {
     "name": "stdout",
     "output_type": "stream",
     "text": [
      "Please enter number for summation : 6\n"
     ]
    }
   ],
   "source": [
    "sum()"
   ]
  },
  {
   "cell_type": "code",
   "execution_count": null,
   "id": "9aaf45dd",
   "metadata": {},
   "outputs": [],
   "source": []
  }
 ],
 "metadata": {
  "kernelspec": {
   "display_name": "Python 3 (ipykernel)",
   "language": "python",
   "name": "python3"
  },
  "language_info": {
   "codemirror_mode": {
    "name": "ipython",
    "version": 3
   },
   "file_extension": ".py",
   "mimetype": "text/x-python",
   "name": "python",
   "nbconvert_exporter": "python",
   "pygments_lexer": "ipython3",
   "version": "3.9.7"
  }
 },
 "nbformat": 4,
 "nbformat_minor": 5
}
