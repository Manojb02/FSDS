{
 "cells": [
  {
   "cell_type": "markdown",
   "id": "386bc3bb",
   "metadata": {},
   "source": [
    "1) Write a Python program to convert kilometers to miles?"
   ]
  },
  {
   "cell_type": "code",
   "execution_count": 1,
   "id": "16244d5a",
   "metadata": {},
   "outputs": [
    {
     "name": "stdout",
     "output_type": "stream",
     "text": [
      "Enter value Kilometer : 55\n",
      "We are converting Kilometer to mile : \n",
      "55.0 Kilometer = 34.175405 Miles\n"
     ]
    }
   ],
   "source": [
    "def Conversion():\n",
    "    m = True\n",
    "    while m:\n",
    "        try:\n",
    "            Kilometer = float(input(\"Enter value Kilometer : \"))\n",
    "        except Exception as e:\n",
    "            print(e)\n",
    "        else:\n",
    "            m = False\n",
    "            constant = 0.621371\n",
    "            print(\"We are converting Kilometer to mile : \")\n",
    "            miles = Kilometer * constant\n",
    "            print (\"{} Kilometer = {} Miles\".format(Kilometer, miles))\n",
    "\n",
    "Conversion()"
   ]
  },
  {
   "cell_type": "markdown",
   "id": "e8fd819e",
   "metadata": {},
   "source": [
    "2) Write a Python program to convert Celsius to Fahrenheit?"
   ]
  },
  {
   "cell_type": "code",
   "execution_count": 2,
   "id": "51b6c61d",
   "metadata": {},
   "outputs": [
    {
     "name": "stdout",
     "output_type": "stream",
     "text": [
      "Enter value celsius : 99\n",
      "99.0 Celsius = 210.20000000000002 fahrenheit\n"
     ]
    }
   ],
   "source": [
    "def Conversion1():\n",
    "    m = True\n",
    "    while m:\n",
    "        try:\n",
    "            celsius = float(input(\"Enter value celsius : \"))\n",
    "        except Exception as e:\n",
    "            print(e)\n",
    "            continue\n",
    "        else:\n",
    "            m = False\n",
    "            fahrenheit = (celsius * 1.8) + 32\n",
    "            print (\"{} Celsius = {} fahrenheit\".format(celsius, fahrenheit))\n",
    "            \n",
    "Conversion1()        "
   ]
  },
  {
   "cell_type": "markdown",
   "id": "f58d52fd",
   "metadata": {},
   "source": [
    "3) Write a Python program to display calendar?"
   ]
  },
  {
   "cell_type": "code",
   "execution_count": 3,
   "id": "184adbeb",
   "metadata": {},
   "outputs": [
    {
     "name": "stdout",
     "output_type": "stream",
     "text": [
      "Year in format XXXX: 2010\n",
      "Please enter Month: 12\n",
      "   December 2010\n",
      "Mo Tu We Th Fr Sa Su\n",
      "       1  2  3  4  5\n",
      " 6  7  8  9 10 11 12\n",
      "13 14 15 16 17 18 19\n",
      "20 21 22 23 24 25 26\n",
      "27 28 29 30 31\n",
      "\n"
     ]
    }
   ],
   "source": [
    "def calendar():\n",
    "    import calendar\n",
    "    m = True\n",
    "    while m:\n",
    "        try:\n",
    "            year = int(input('Year in format XXXX: '))\n",
    "            month = int(input('Please enter Month: '))         \n",
    "        except Exception as e:\n",
    "            print (e)\n",
    "            print(\"Kindly print 4 digit number :\")     \n",
    "        else:\n",
    "            if year not in range (1000,10000): \n",
    "                print(\"Kindly  Enter 4 digit year :\")\n",
    "                continue   \n",
    "            if  month not in range (1,13):\n",
    "                print(\"Kindly  Enter correct Month in 1 to 12 :\")\n",
    "                continue\n",
    "            m = False\n",
    "            print(calendar.month(year, month))\n",
    "calendar()\n",
    "            "
   ]
  },
  {
   "cell_type": "markdown",
   "id": "e99d2e99",
   "metadata": {},
   "source": [
    "4) Write a Python program to solve quadratic equation?"
   ]
  },
  {
   "cell_type": "code",
   "execution_count": 4,
   "id": "f75e6cb6",
   "metadata": {},
   "outputs": [
    {
     "name": "stdout",
     "output_type": "stream",
     "text": [
      "Enter a :3\n",
      "Enter b :4\n",
      "Enter c :6\n",
      "Boths roots are equal and are = -0.6666666666666666\n"
     ]
    }
   ],
   "source": [
    "def equation():\n",
    "    m = True\n",
    "    while m:\n",
    "        try:\n",
    "            a = int(input(\"Enter a :\"))\n",
    "            b = int(input(\"Enter b :\"))\n",
    "            c = int(input(\"Enter c :\"))  \n",
    "        except Exception as e:\n",
    "            print(e)\n",
    "            print(\"Please put integer\")\n",
    "        else:\n",
    "            m = False\n",
    "            d = (b**2)-4*a*c\n",
    "            if (d>0):\n",
    "                root_1 = (-b-(d)**0.5)/2*a\n",
    "                root_2 = (-b+(d)**0.5)/2*a\n",
    "                print(\"The roots are {} and {}\".format(root_1,root_2))\n",
    "            elif (d==0):\n",
    "                root_1 = root_2 = -b / (2 * a)\n",
    "                print(\"Boths roots are equal and are = {}\".format(root_1))\n",
    "            else:\n",
    "                root_1 = root_2 = -b / (2 * a)\n",
    "                print(\"Boths roots are equal and are = {}\".format(root_1))\n",
    "\n",
    "\n",
    "equation()\n",
    "\n",
    "    "
   ]
  },
  {
   "cell_type": "markdown",
   "id": "6f129cc8",
   "metadata": {},
   "source": [
    "5) Write a Python program to swap two variables without temp variable?"
   ]
  },
  {
   "cell_type": "code",
   "execution_count": 5,
   "id": "2ecae951",
   "metadata": {},
   "outputs": [
    {
     "name": "stdout",
     "output_type": "stream",
     "text": [
      "Enter the value of a : 4\n",
      "Enter the value of b : 6\n",
      "a 6\n",
      "b 4\n"
     ]
    }
   ],
   "source": [
    "def check2():\n",
    "    try:\n",
    "        a = input(\"Enter the value of a : \")\n",
    "        b = input(\"Enter the value of b : \")\n",
    "    except Exception as e:\n",
    "        print(e)\n",
    "    else:\n",
    "        a,b=b,a\n",
    "        print(\"a\",a)\n",
    "        print(\"b\",b)\n",
    "        \n",
    "check2()\n",
    "    \n"
   ]
  },
  {
   "cell_type": "code",
   "execution_count": null,
   "id": "98b3c07e",
   "metadata": {},
   "outputs": [],
   "source": []
  }
 ],
 "metadata": {
  "kernelspec": {
   "display_name": "Python 3 (ipykernel)",
   "language": "python",
   "name": "python3"
  },
  "language_info": {
   "codemirror_mode": {
    "name": "ipython",
    "version": 3
   },
   "file_extension": ".py",
   "mimetype": "text/x-python",
   "name": "python",
   "nbconvert_exporter": "python",
   "pygments_lexer": "ipython3",
   "version": "3.9.7"
  }
 },
 "nbformat": 4,
 "nbformat_minor": 5
}
