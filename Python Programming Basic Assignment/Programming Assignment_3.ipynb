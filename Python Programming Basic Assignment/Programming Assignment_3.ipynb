{
 "cells": [
  {
   "cell_type": "markdown",
   "id": "6c8b297e",
   "metadata": {},
   "source": [
    "1) Write a Python Program to Check if a Number is Positive, Negative or Zero?"
   ]
  },
  {
   "cell_type": "code",
   "execution_count": 1,
   "id": "20f45eca",
   "metadata": {},
   "outputs": [
    {
     "name": "stdout",
     "output_type": "stream",
     "text": [
      "Enter a number :9\n",
      "Numer is : 9\n",
      "Number 9 is positive\n"
     ]
    }
   ],
   "source": [
    "def check():\n",
    "    m = True\n",
    "    \n",
    "    while m:\n",
    "        try:\n",
    "            a = int(input(\"Enter a number :\"))\n",
    "            print (\"Numer is :\" , a)\n",
    "        except Exception as e:\n",
    "            print(\"Kindly put a number not other\")\n",
    "            print(e)\n",
    "        else:\n",
    "            if a==0:\n",
    "                print(\"Number {} is zero\".format(a))\n",
    "                break\n",
    "            elif a>0:\n",
    "                print(\"Number {} is positive\".format(a))\n",
    "                break\n",
    "            else:\n",
    "                print(\"Number {} is negative\".format(a))\n",
    "                break\n",
    "            \n",
    "\n",
    "check()              "
   ]
  },
  {
   "cell_type": "markdown",
   "id": "8286bd2a",
   "metadata": {},
   "source": [
    "2)Write a Python Program to Check if a Number is Odd or Even?"
   ]
  },
  {
   "cell_type": "code",
   "execution_count": 2,
   "id": "cd141269",
   "metadata": {},
   "outputs": [
    {
     "name": "stdout",
     "output_type": "stream",
     "text": [
      "Enter a number :77\n",
      "Numer is : 77\n",
      "Number 77 is an odd number\n"
     ]
    }
   ],
   "source": [
    "def odd_even():\n",
    "    m = True\n",
    "    \n",
    "    while m:\n",
    "        try:\n",
    "            a = int(input(\"Enter a number :\"))\n",
    "            print (\"Numer is :\" , a)\n",
    "        except Exception as e:\n",
    "            print(\"Kindly put a number not other\")\n",
    "            print(e)\n",
    "        else:\n",
    "            if a%2==0:\n",
    "                print(\"Number {} is an even number\".format(a))\n",
    "                break\n",
    "            else:\n",
    "                print(\"Number {} is an odd number\".format(a))\n",
    "                break\n",
    "                \n",
    "odd_even() "
   ]
  },
  {
   "cell_type": "markdown",
   "id": "6828dc75",
   "metadata": {},
   "source": [
    "3) Write a Python Program to Check Leap Year?"
   ]
  },
  {
   "cell_type": "code",
   "execution_count": 3,
   "id": "3d24cdf5",
   "metadata": {},
   "outputs": [
    {
     "name": "stdout",
     "output_type": "stream",
     "text": [
      "Enter a year :2000\n",
      "Year  is : 2000\n",
      "2000 is a leap year\n"
     ]
    }
   ],
   "source": [
    "def Leap_year():\n",
    "    m = True\n",
    "    while m:\n",
    "        try:\n",
    "            a = int(input(\"Enter a year :\"))\n",
    "            print (\"Year  is :\" , a)\n",
    "        except Exception as e:\n",
    "            print(\"Kindly put a year not other\")\n",
    "            print(e)\n",
    "        else:\n",
    "            m = False\n",
    "            if (a%400==0) or  (a%4==0):\n",
    "                print (\"{} is a leap year\".format(a))\n",
    "            else :\n",
    "                print(\"Not a leap year\")\n",
    "\n",
    "Leap_year()"
   ]
  },
  {
   "cell_type": "markdown",
   "id": "85a1577b",
   "metadata": {},
   "source": [
    "4) Write a Python Program to Check Prime Number?"
   ]
  },
  {
   "cell_type": "code",
   "execution_count": 5,
   "id": "26613322",
   "metadata": {},
   "outputs": [
    {
     "name": "stdout",
     "output_type": "stream",
     "text": [
      "Enter the number to check : 77\n",
      "77 is not prime number\n"
     ]
    }
   ],
   "source": [
    "def prime():\n",
    "    m = True\n",
    "    while m :\n",
    "        try :\n",
    "            a = int(input(\"Enter the number to check : \"))\n",
    "        except Exception as e:\n",
    "            print(e)\n",
    "            print(\"Request you to pleae enter an integer\")\n",
    "            continue\n",
    "        else:\n",
    "            m = False\n",
    "            for  i in range (2,a):\n",
    "                if a%i==0:\n",
    "                    print (\"{} is not prime number\".format(a))\n",
    "                    \n",
    "                    break       \n",
    "            else:\n",
    "                print(\"{} is a prime number\".format(a))\n",
    "                break\n",
    "prime()\n",
    "                    "
   ]
  },
  {
   "cell_type": "markdown",
   "id": "b6051d59",
   "metadata": {},
   "source": [
    "5) Write a Python Program to Print all Prime Numbers in an Interval of 1-10000?"
   ]
  },
  {
   "cell_type": "code",
   "execution_count": 6,
   "id": "e56a3ac2",
   "metadata": {},
   "outputs": [
    {
     "name": "stdout",
     "output_type": "stream",
     "text": [
      "Enter the number to check : 12\n",
      "2 is a prime number\n",
      "3 is a prime number\n",
      "5 is a prime number\n",
      "7 is a prime number\n",
      "11 is a prime number\n",
      "Total prime numbers in the range 12 is 5\n"
     ]
    }
   ],
   "source": [
    "def prime_list():\n",
    "        m = True\n",
    "        s = []\n",
    "        while m :\n",
    "            try :\n",
    "                a = int(input(\"Enter the number to check : \"))\n",
    "            except Exception as e:\n",
    "                print(e)\n",
    "                print(\"Request you to pleae enter an integer\")\n",
    "                continue\n",
    "            else:\n",
    "                m = False\n",
    "                for i in range (2,a+1):\n",
    "                    for j in range (2,i):\n",
    "                        if i%j==0:\n",
    "                            break\n",
    "                    else:\n",
    "                        print(\"{} is a prime number\".format(i))\n",
    "                        s.append(i)\n",
    "                        \n",
    "                print(\"Total prime numbers in the range {} is {}\".format(a,len(s)))\n",
    "\n",
    "prime_list()\n",
    "                    \n",
    "                    \n",
    "                        "
   ]
  },
  {
   "cell_type": "code",
   "execution_count": null,
   "id": "d976b0d8",
   "metadata": {},
   "outputs": [],
   "source": []
  },
  {
   "cell_type": "code",
   "execution_count": null,
   "id": "cd93794f",
   "metadata": {},
   "outputs": [],
   "source": []
  }
 ],
 "metadata": {
  "kernelspec": {
   "display_name": "Python 3 (ipykernel)",
   "language": "python",
   "name": "python3"
  },
  "language_info": {
   "codemirror_mode": {
    "name": "ipython",
    "version": 3
   },
   "file_extension": ".py",
   "mimetype": "text/x-python",
   "name": "python",
   "nbconvert_exporter": "python",
   "pygments_lexer": "ipython3",
   "version": "3.9.7"
  }
 },
 "nbformat": 4,
 "nbformat_minor": 5
}
