{
 "cells": [
  {
   "cell_type": "markdown",
   "id": "28eb74f8",
   "metadata": {},
   "source": [
    "1) Write a Python program to print &quot;Hello Python&quot;?"
   ]
  },
  {
   "cell_type": "code",
   "execution_count": 1,
   "id": "1f4dfa6d",
   "metadata": {},
   "outputs": [
    {
     "name": "stdout",
     "output_type": "stream",
     "text": [
      "Hello  Python\n"
     ]
    }
   ],
   "source": [
    "def check():\n",
    "    print (\"Hello  Python\" ) \n",
    "    \n",
    "check()"
   ]
  },
  {
   "cell_type": "markdown",
   "id": "d31f422a",
   "metadata": {},
   "source": [
    "2)Write a Python program to do arithmetical operations addition and division.?"
   ]
  },
  {
   "cell_type": "code",
   "execution_count": 2,
   "id": "f7c4d089",
   "metadata": {},
   "outputs": [
    {
     "name": "stdout",
     "output_type": "stream",
     "text": [
      "Enter first number : 877\n",
      "Enter second number :99\n",
      "What you want to perform Division or Addition :Addition\n"
     ]
    },
    {
     "data": {
      "text/plain": [
       "976"
      ]
     },
     "execution_count": 2,
     "metadata": {},
     "output_type": "execute_result"
    }
   ],
   "source": [
    "def calculation():\n",
    "    m = True\n",
    "    while m:\n",
    "        \n",
    "        try:\n",
    "            a = int(input(\"Enter first number : \"))\n",
    "            b = int(input(\"Enter second number :\"))\n",
    "        except Exception as e:\n",
    "            print(\"Kindly provide integers \")\n",
    "            continue\n",
    "        else:\n",
    "            j = True\n",
    "            while j:\n",
    "                c = input(\"What you want to perform Division or Addition :\")\n",
    "                if c==\"Division\":\n",
    "                    d = a/b\n",
    "                    j = False\n",
    "                    return d\n",
    "                \n",
    "                elif c==\"Addition\":\n",
    "                    e = a+b\n",
    "                    j = False\n",
    "                    return e\n",
    "                else:\n",
    "                    continue\n",
    "calculation()\n",
    "\n"
   ]
  },
  {
   "cell_type": "markdown",
   "id": "679a0419",
   "metadata": {},
   "source": [
    "3) Write a Python program to find the area of a triangle?"
   ]
  },
  {
   "cell_type": "code",
   "execution_count": 3,
   "id": "2526c96a",
   "metadata": {},
   "outputs": [
    {
     "name": "stdout",
     "output_type": "stream",
     "text": [
      "Enter the length of first side :55\n",
      "Enter the length of second side:66\n",
      "Enter the length of third side :77\n",
      "1778.3295532605873\n"
     ]
    }
   ],
   "source": [
    "def Triangle_Area():\n",
    "    try:\n",
    "        a = float(input(\"Enter the length of first side :\"))\n",
    "        b = float(input(\"Enter the length of second side:\"))\n",
    "        c = float(input(\"Enter the length of third side :\"))\n",
    "    except Exception as e:\n",
    "        print(e)\n",
    "    else:\n",
    "        s = (a+b+c)/2\n",
    "        area_triangle = (s*(s-a)*(s-b)*(s-c)) ** 0.5\n",
    "        print(area_triangle)\n",
    "    \n",
    "Triangle_Area()\n",
    "    \n",
    "    "
   ]
  },
  {
   "cell_type": "markdown",
   "id": "a565b760",
   "metadata": {},
   "source": [
    "4) Write a Python program to swap two variables?"
   ]
  },
  {
   "cell_type": "code",
   "execution_count": 4,
   "id": "e91c6cac",
   "metadata": {},
   "outputs": [
    {
     "name": "stdout",
     "output_type": "stream",
     "text": [
      "Enter the value for Variable a :fg\n",
      "Enter the value for Variable b :4r\n",
      "a:  fg\n",
      "b:  4r\n",
      "Now we have swaped the Variables\n",
      "a:  4r\n",
      "b:  fg\n"
     ]
    }
   ],
   "source": [
    "def swap():\n",
    "    try:\n",
    "        a =input(\"Enter the value for Variable a :\")\n",
    "        b =input(\"Enter the value for Variable b :\")\n",
    "        print(\"a: \" ,a)\n",
    "        print(\"b: \" , b)\n",
    "    except Exception as e:\n",
    "        print (\"Error is :\" ,e)\n",
    "\n",
    "    finally:\n",
    "        c= a\n",
    "        a=b\n",
    "        b=c\n",
    "        print(\"Now we have swaped the Variables\")\n",
    "        print(\"a: \" ,a)\n",
    "        print(\"b: \" , b)\n",
    "swap()"
   ]
  },
  {
   "cell_type": "markdown",
   "id": "da454eeb",
   "metadata": {},
   "source": [
    "5) Write a Python program to generate a random number?"
   ]
  },
  {
   "cell_type": "code",
   "execution_count": 5,
   "id": "b080e3b0",
   "metadata": {},
   "outputs": [
    {
     "name": "stdout",
     "output_type": "stream",
     "text": [
      "47\n"
     ]
    }
   ],
   "source": [
    "def check3(a):\n",
    "    import random\n",
    "    n = random.randint(0,a)\n",
    "    print(n)\n",
    "\n",
    "check3(66)"
   ]
  },
  {
   "cell_type": "code",
   "execution_count": null,
   "id": "2caacc23",
   "metadata": {},
   "outputs": [],
   "source": []
  }
 ],
 "metadata": {
  "kernelspec": {
   "display_name": "Python 3 (ipykernel)",
   "language": "python",
   "name": "python3"
  },
  "language_info": {
   "codemirror_mode": {
    "name": "ipython",
    "version": 3
   },
   "file_extension": ".py",
   "mimetype": "text/x-python",
   "name": "python",
   "nbconvert_exporter": "python",
   "pygments_lexer": "ipython3",
   "version": "3.9.7"
  }
 },
 "nbformat": 4,
 "nbformat_minor": 5
}
