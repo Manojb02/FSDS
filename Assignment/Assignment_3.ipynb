{
 "cells": [
  {
   "cell_type": "code",
   "execution_count": 1,
   "id": "3c615f58",
   "metadata": {},
   "outputs": [],
   "source": [
    "#1. Why are functions advantageous to have in your programs?"
   ]
  },
  {
   "cell_type": "code",
   "execution_count": null,
   "id": "5d94ba60",
   "metadata": {},
   "outputs": [],
   "source": [
    "This gives you the flexibility , Flexibility in the sense you can break the huge code into small small funciton and \n",
    "use them. It also gives you the flexibilty to use them again and again\n"
   ]
  },
  {
   "cell_type": "code",
   "execution_count": 2,
   "id": "1ea8ec40",
   "metadata": {},
   "outputs": [],
   "source": [
    "#2. When does the code in a function run: when it's specified or when it's called?"
   ]
  },
  {
   "cell_type": "code",
   "execution_count": null,
   "id": "d58a0c1b",
   "metadata": {},
   "outputs": [],
   "source": [
    "It runs when you called that function\n",
    "def test(a):\n",
    "    return a**2\n",
    "test(2)"
   ]
  },
  {
   "cell_type": "code",
   "execution_count": 3,
   "id": "efcce291",
   "metadata": {},
   "outputs": [],
   "source": [
    "#3. What statement creates a function?"
   ]
  },
  {
   "cell_type": "code",
   "execution_count": null,
   "id": "c8a9a446",
   "metadata": {},
   "outputs": [],
   "source": [
    "Function is created by def keyword.The def keyword is followed by the function name \n",
    "with round brackets and a colon.\n",
    "def test(a):\n",
    "    return a**2\n",
    "test(2)"
   ]
  },
  {
   "cell_type": "code",
   "execution_count": 4,
   "id": "97ff5fe4",
   "metadata": {},
   "outputs": [],
   "source": [
    "#4. What is the difference between a function and a function call?"
   ]
  },
  {
   "cell_type": "code",
   "execution_count": null,
   "id": "fddcfcf6",
   "metadata": {},
   "outputs": [],
   "source": [
    "Function is procedure by which we create a funcion by using def keyword  and that return a certain output whenever it be \n",
    "called and calling that function to give an output is called function call\n"
   ]
  },
  {
   "cell_type": "code",
   "execution_count": 5,
   "id": "c1e49c71",
   "metadata": {},
   "outputs": [],
   "source": [
    "#5. How many global scopes are there in a Python program? How many local scopes?"
   ]
  },
  {
   "cell_type": "code",
   "execution_count": null,
   "id": "3e7521a6",
   "metadata": {},
   "outputs": [],
   "source": [
    "There is only one global scope availiable in one notebook which is avaliable through the execution .It is present\n",
    "per program execution where as we can have as many diffrent local scopes as function call. There is no limitation of having\n",
    "any local scopes we can have as many as we want."
   ]
  },
  {
   "cell_type": "code",
   "execution_count": 6,
   "id": "14ced775",
   "metadata": {},
   "outputs": [],
   "source": [
    "#6.What happens to variables in a local scope when the function call returns?"
   ]
  },
  {
   "cell_type": "code",
   "execution_count": null,
   "id": "1e37272a",
   "metadata": {},
   "outputs": [],
   "source": [
    "when the execution of the function returns the local variables are destroyed. There scope is limited to inside that\n",
    "function only.They totaaly becomes undefined as functon call completes."
   ]
  },
  {
   "cell_type": "code",
   "execution_count": 7,
   "id": "4000f428",
   "metadata": {},
   "outputs": [],
   "source": [
    "#7. What is the concept of a return value? Is it possible to have a return value in an expression?"
   ]
  },
  {
   "cell_type": "code",
   "execution_count": null,
   "id": "de645bae",
   "metadata": {},
   "outputs": [],
   "source": [
    "A return statement is used to end the execution of the function call and “returns” the result\n",
    "(value of the expression following the return keyword) to the caller. The statements after the return statements\n",
    "are not executed. If the return statement is without any expression, then the special value None is returned. \n",
    "Return statement can not be used outside the function."
   ]
  },
  {
   "cell_type": "code",
   "execution_count": 8,
   "id": "27deaaf6",
   "metadata": {},
   "outputs": [],
   "source": [
    "#8. If a function does not have a return statement, what is the return value of a call to that function?"
   ]
  },
  {
   "cell_type": "code",
   "execution_count": null,
   "id": "fe0a0e50",
   "metadata": {},
   "outputs": [],
   "source": [
    "If the fucnction does not have a return statement the default return value is None."
   ]
  },
  {
   "cell_type": "code",
   "execution_count": 10,
   "id": "7e77a6da",
   "metadata": {},
   "outputs": [],
   "source": [
    "#9. How do you make a function variable refer to the global variable?"
   ]
  },
  {
   "cell_type": "code",
   "execution_count": null,
   "id": "213a383e",
   "metadata": {},
   "outputs": [],
   "source": [
    "If we want to refer to a global variable in a function,we can use the global keyword to declare which variables are global."
   ]
  },
  {
   "cell_type": "code",
   "execution_count": null,
   "id": "aafaf16a",
   "metadata": {},
   "outputs": [],
   "source": [
    "#10. What is the data type of None?"
   ]
  },
  {
   "cell_type": "code",
   "execution_count": null,
   "id": "8615fa76",
   "metadata": {},
   "outputs": [],
   "source": [
    "The None keyword is used to define a null variable or an object. In Python, None keyword is \n",
    "an object, and it is a data type of the class NoneType"
   ]
  },
  {
   "cell_type": "code",
   "execution_count": 18,
   "id": "7c417416",
   "metadata": {},
   "outputs": [
    {
     "data": {
      "text/plain": [
       "NoneType"
      ]
     },
     "execution_count": 18,
     "metadata": {},
     "output_type": "execute_result"
    }
   ],
   "source": [
    "type(None)"
   ]
  },
  {
   "cell_type": "code",
   "execution_count": null,
   "id": "92dbbb4a",
   "metadata": {},
   "outputs": [],
   "source": [
    "#11. What does the sentence import areallyourpetsnamederic do?"
   ]
  },
  {
   "cell_type": "code",
   "execution_count": null,
   "id": "bfe81655",
   "metadata": {},
   "outputs": [],
   "source": [
    "It will import a module named areallyourpetsnamederic"
   ]
  },
  {
   "cell_type": "code",
   "execution_count": null,
   "id": "0d2cd5a2",
   "metadata": {},
   "outputs": [],
   "source": [
    "#12. If you had a bacon() feature in a spam module, what would you call it after importing spam?"
   ]
  },
  {
   "cell_type": "code",
   "execution_count": null,
   "id": "e5628f61",
   "metadata": {},
   "outputs": [],
   "source": [
    "import  spam.bacon()"
   ]
  },
  {
   "cell_type": "code",
   "execution_count": null,
   "id": "e7f8c4fe",
   "metadata": {},
   "outputs": [],
   "source": [
    "#13. What can you do to save a programme from crashing if it encounters an error?"
   ]
  },
  {
   "cell_type": "code",
   "execution_count": null,
   "id": "91c2b390",
   "metadata": {},
   "outputs": [],
   "source": [
    "We can use exception handling try except and else\n",
    "if there is an error it will raise an exception and if there is no error than code under else statement will proceed"
   ]
  },
  {
   "cell_type": "code",
   "execution_count": 19,
   "id": "63caa391",
   "metadata": {},
   "outputs": [],
   "source": [
    "#14. What is the purpose of the try clause? What is the purpose of the except clause?"
   ]
  },
  {
   "cell_type": "code",
   "execution_count": null,
   "id": "b8a13323",
   "metadata": {},
   "outputs": [],
   "source": [
    "The try block allows you to test a block of code for errors.The except block enables you to handle the error with a\n",
    "user-defined response.\n",
    "eg.\n",
    "try:\n",
    "    # Some Code\n",
    "except:\n",
    "    # Executed if error in the\n",
    "    # try block"
   ]
  }
 ],
 "metadata": {
  "kernelspec": {
   "display_name": "Python 3 (ipykernel)",
   "language": "python",
   "name": "python3"
  },
  "language_info": {
   "codemirror_mode": {
    "name": "ipython",
    "version": 3
   },
   "file_extension": ".py",
   "mimetype": "text/x-python",
   "name": "python",
   "nbconvert_exporter": "python",
   "pygments_lexer": "ipython3",
   "version": "3.9.7"
  }
 },
 "nbformat": 4,
 "nbformat_minor": 5
}
