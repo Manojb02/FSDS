{
 "cells": [
  {
   "cell_type": "markdown",
   "id": "c7c5111c",
   "metadata": {},
   "source": [
    "1)What does an empty dictionary's code look like?"
   ]
  },
  {
   "cell_type": "markdown",
   "id": "b6c2a22b",
   "metadata": {},
   "source": [
    "di = {}"
   ]
  },
  {
   "cell_type": "markdown",
   "id": "815a3d51",
   "metadata": {},
   "source": [
    "2) What is the value of a dictionary value with the key 'foo' and the value 42?"
   ]
  },
  {
   "cell_type": "code",
   "execution_count": 5,
   "id": "2b9e2084",
   "metadata": {},
   "outputs": [
    {
     "data": {
      "text/plain": [
       "42"
      ]
     },
     "execution_count": 5,
     "metadata": {},
     "output_type": "execute_result"
    }
   ],
   "source": [
    "dic = {'foo' : 42}\n",
    "dic['foo']"
   ]
  },
  {
   "cell_type": "markdown",
   "id": "10a3d787",
   "metadata": {},
   "source": [
    "3)  What is the most significant distinction between a dictionary and a list?"
   ]
  },
  {
   "cell_type": "markdown",
   "id": "1d049021",
   "metadata": {},
   "source": [
    "In dictionary we can access the values using their keys and in list we can access elements using their position \n",
    "List is ordered collection of elements while dictionary is unordered collecton of elements"
   ]
  },
  {
   "cell_type": "markdown",
   "id": "1402d0a6",
   "metadata": {},
   "source": [
    "4) What happens if you try to access spam['foo'] if spam is {'bar': 100}?"
   ]
  },
  {
   "cell_type": "code",
   "execution_count": 7,
   "id": "dfe42b54",
   "metadata": {},
   "outputs": [
    {
     "ename": "KeyError",
     "evalue": "'foo'",
     "output_type": "error",
     "traceback": [
      "\u001b[1;31m---------------------------------------------------------------------------\u001b[0m",
      "\u001b[1;31mKeyError\u001b[0m                                  Traceback (most recent call last)",
      "\u001b[1;32m~\\AppData\\Local\\Temp/ipykernel_9616/1861405073.py\u001b[0m in \u001b[0;36m<module>\u001b[1;34m\u001b[0m\n\u001b[0;32m      1\u001b[0m \u001b[0mspam\u001b[0m \u001b[1;33m=\u001b[0m \u001b[1;33m{\u001b[0m\u001b[1;34m\"bar\"\u001b[0m\u001b[1;33m:\u001b[0m\u001b[1;36m100\u001b[0m\u001b[1;33m}\u001b[0m\u001b[1;33m\u001b[0m\u001b[1;33m\u001b[0m\u001b[0m\n\u001b[1;32m----> 2\u001b[1;33m \u001b[0mspam\u001b[0m\u001b[1;33m[\u001b[0m\u001b[1;34m\"foo\"\u001b[0m\u001b[1;33m]\u001b[0m\u001b[1;33m\u001b[0m\u001b[1;33m\u001b[0m\u001b[0m\n\u001b[0m\u001b[0;32m      3\u001b[0m \u001b[1;31m#It will get a key Error as there is no key word by name \"foo\" in dictionary spam\u001b[0m\u001b[1;33m\u001b[0m\u001b[1;33m\u001b[0m\u001b[0m\n",
      "\u001b[1;31mKeyError\u001b[0m: 'foo'"
     ]
    }
   ],
   "source": [
    "spam = {\"bar\":100}\n",
    "spam[\"foo\"]\n",
    "#It will get a key Error as there is no key word by name \"foo\" in dictionary spam"
   ]
  },
  {
   "cell_type": "markdown",
   "id": "9f7d147e",
   "metadata": {},
   "source": [
    "5)If a dictionary is stored in spam, what is the difference between the expressions 'cat' in spam and 'cat' in spam.keys()?"
   ]
  },
  {
   "cell_type": "markdown",
   "id": "368c6271",
   "metadata": {},
   "source": [
    "Both are same as both are looking for cat as a  keys in dictionary"
   ]
  },
  {
   "cell_type": "markdown",
   "id": "af0e746a",
   "metadata": {},
   "source": [
    "6) If a dictionary is stored in spam, what is the difference between the expressions 'cat' in spam and 'cat' in spam.values()?"
   ]
  },
  {
   "cell_type": "markdown",
   "id": "5105b64d",
   "metadata": {},
   "source": [
    "cat in spam is looking for cat as a  keys in spam and cat in spam.values() is looking for cat as a  values"
   ]
  },
  {
   "cell_type": "code",
   "execution_count": null,
   "id": "84906968",
   "metadata": {},
   "outputs": [],
   "source": [
    "'''''7)What is a shortcut for the following code?\n",
    "if 'color' not in spam:\n",
    "   spam['color'] = 'black'''"
   ]
  },
  {
   "cell_type": "markdown",
   "id": "f6bd92ac",
   "metadata": {},
   "source": [
    "spam.setdefault('color', 'black')"
   ]
  },
  {
   "cell_type": "markdown",
   "id": "8ef440d1",
   "metadata": {},
   "source": [
    "8) How do you &quot;pretty print&quot; dictionary values using which module and function?"
   ]
  },
  {
   "cell_type": "code",
   "execution_count": null,
   "id": "d1a9f0e8",
   "metadata": {},
   "outputs": [],
   "source": [
    "pprint.pprint()"
   ]
  }
 ],
 "metadata": {
  "kernelspec": {
   "display_name": "Python 3 (ipykernel)",
   "language": "python",
   "name": "python3"
  },
  "language_info": {
   "codemirror_mode": {
    "name": "ipython",
    "version": 3
   },
   "file_extension": ".py",
   "mimetype": "text/x-python",
   "name": "python",
   "nbconvert_exporter": "python",
   "pygments_lexer": "ipython3",
   "version": "3.9.7"
  }
 },
 "nbformat": 4,
 "nbformat_minor": 5
}
