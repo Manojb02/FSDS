{
 "cells": [
  {
   "cell_type": "markdown",
   "id": "0728d1ec",
   "metadata": {},
   "source": [
    "1) What exactly is []?"
   ]
  },
  {
   "cell_type": "code",
   "execution_count": null,
   "id": "ae05c518",
   "metadata": {},
   "outputs": [],
   "source": [
    "# This is an empy list"
   ]
  },
  {
   "cell_type": "markdown",
   "id": "29c1ef7b",
   "metadata": {},
   "source": [
    "2) In a list of values stored in a variable called spam, how would you assign the value 'hello' as the third value? \n",
    "#(Assume [2, 4, 6, 8, 10] are in spam.)"
   ]
  },
  {
   "cell_type": "code",
   "execution_count": 3,
   "id": "13f27c02",
   "metadata": {},
   "outputs": [
    {
     "data": {
      "text/plain": [
       "[2, 4, 'hello', 8, 10]"
      ]
     },
     "execution_count": 3,
     "metadata": {},
     "output_type": "execute_result"
    }
   ],
   "source": [
    "spam = [2,4,6,8,10]\n",
    "spam[2]=\"hello\"\n",
    "spam"
   ]
  },
  {
   "cell_type": "markdown",
   "id": "69533929",
   "metadata": {},
   "source": [
    "3)Let's pretend the spam includes the list ['a', 'b', 'c', 'd'] for the next three queries.\n",
    " What is the value of spam[int(int('3' * 2) / 11)]?"
   ]
  },
  {
   "cell_type": "code",
   "execution_count": 5,
   "id": "0154f7b4",
   "metadata": {},
   "outputs": [],
   "source": [
    "# It will throw an error as in "
   ]
  },
  {
   "cell_type": "markdown",
   "id": "8d299430",
   "metadata": {},
   "source": [
    "4) What is the value of spam[-1]?"
   ]
  },
  {
   "cell_type": "code",
   "execution_count": 7,
   "id": "1806989f",
   "metadata": {},
   "outputs": [
    {
     "data": {
      "text/plain": [
       "'d'"
      ]
     },
     "execution_count": 7,
     "metadata": {},
     "output_type": "execute_result"
    }
   ],
   "source": [
    "spam =  ['a', 'b', 'c', 'd'] \n",
    "spam[-1]"
   ]
  },
  {
   "cell_type": "markdown",
   "id": "fa7ae4c9",
   "metadata": {},
   "source": [
    "5) What is the value of spam[:2]?"
   ]
  },
  {
   "cell_type": "code",
   "execution_count": 8,
   "id": "d5d190b5",
   "metadata": {},
   "outputs": [
    {
     "data": {
      "text/plain": [
       "['a', 'b']"
      ]
     },
     "execution_count": 8,
     "metadata": {},
     "output_type": "execute_result"
    }
   ],
   "source": [
    "spam[:2]"
   ]
  },
  {
   "cell_type": "markdown",
   "id": "ea900a71",
   "metadata": {},
   "source": [
    "6) Let's pretend bacon has the list [3.14, 'cat,' 11, 'cat,' True] for the next three questions.\n",
    "What is the value of bacon.index('cat')?"
   ]
  },
  {
   "cell_type": "code",
   "execution_count": 17,
   "id": "cf0ce97d",
   "metadata": {},
   "outputs": [
    {
     "data": {
      "text/plain": [
       "1"
      ]
     },
     "execution_count": 17,
     "metadata": {},
     "output_type": "execute_result"
    }
   ],
   "source": [
    "bacon = [3.14,\"cat\",'11','cat',True]\n",
    "bacon.index('cat') # always shows the index for first one  if duplicates"
   ]
  },
  {
   "cell_type": "markdown",
   "id": "aa77e8d6",
   "metadata": {},
   "source": [
    "7)  How does bacon.append(99) change the look of the list value in bacon?"
   ]
  },
  {
   "cell_type": "code",
   "execution_count": 18,
   "id": "c036551d",
   "metadata": {},
   "outputs": [
    {
     "data": {
      "text/plain": [
       "[3.14, 'cat', '11', 'cat', True, 99]"
      ]
     },
     "execution_count": 18,
     "metadata": {},
     "output_type": "execute_result"
    }
   ],
   "source": [
    "bacon.append(99) # append add one  element to the end of the list \n",
    "bacon"
   ]
  },
  {
   "cell_type": "markdown",
   "id": "224706df",
   "metadata": {},
   "source": [
    "8) How does bacon.remove('cat') change the look of the list in bacon?"
   ]
  },
  {
   "cell_type": "code",
   "execution_count": 19,
   "id": "2e23ebc6",
   "metadata": {},
   "outputs": [
    {
     "data": {
      "text/plain": [
       "[3.14, '11', 'cat', True, 99]"
      ]
     },
     "execution_count": 19,
     "metadata": {},
     "output_type": "execute_result"
    }
   ],
   "source": [
    "bacon.remove('cat') # It will remove the first occurance\n",
    "bacon"
   ]
  },
  {
   "cell_type": "markdown",
   "id": "0f50482d",
   "metadata": {},
   "source": [
    "9)  What are the list concatenation and list replication operators?"
   ]
  },
  {
   "cell_type": "code",
   "execution_count": null,
   "id": "4fff52ba",
   "metadata": {},
   "outputs": [],
   "source": [
    "# For list concatenation we use \"+\" and we can use extend()...For list replication we use \"*\""
   ]
  },
  {
   "cell_type": "markdown",
   "id": "0ac1a8ee",
   "metadata": {},
   "source": [
    "10) What is difference between the list methods append() and insert()?"
   ]
  },
  {
   "cell_type": "markdown",
   "id": "7bc42da8",
   "metadata": {},
   "source": [
    "append()  is use to add one element in the list at the last while insert() can be used to insert the element at any index number."
   ]
  },
  {
   "cell_type": "markdown",
   "id": "6ae90bdc",
   "metadata": {},
   "source": [
    "11) What are the two methods for removing items from a list?"
   ]
  },
  {
   "cell_type": "markdown",
   "id": "54a004a2",
   "metadata": {},
   "source": [
    "We can use pop() and remove(). remove() method removes the first occurence of the element and pop() use to \n",
    "remove from any index number"
   ]
  },
  {
   "cell_type": "code",
   "execution_count": 21,
   "id": "5f67fc8b",
   "metadata": {},
   "outputs": [
    {
     "name": "stdout",
     "output_type": "stream",
     "text": [
      "[1, 2, 3, 4, 5]\n",
      "[1, 2, 3, 5]\n",
      "[1, 2, 3]\n"
     ]
    }
   ],
   "source": [
    "l =[1,2,3,4,5,\"a\"]\n",
    "l.pop()\n",
    "print(l)\n",
    "l.pop(3)\n",
    "print(l)\n",
    "l.remove(5)\n",
    "print(l)"
   ]
  },
  {
   "cell_type": "markdown",
   "id": "41f3e7ce",
   "metadata": {},
   "source": [
    "12) Describe how list values and string values are identical."
   ]
  },
  {
   "cell_type": "markdown",
   "id": "fc10441d",
   "metadata": {},
   "source": [
    "List values and string values are iteratable . "
   ]
  },
  {
   "cell_type": "markdown",
   "id": "32c36a59",
   "metadata": {},
   "source": [
    "13) What's the difference between tuples and lists?"
   ]
  },
  {
   "cell_type": "markdown",
   "id": "fa63deaf",
   "metadata": {},
   "source": [
    "list are mutable and tuple are immutable. tuple comsumes less memory than list"
   ]
  },
  {
   "cell_type": "markdown",
   "id": "2b826cc1",
   "metadata": {},
   "source": [
    "14) How do you type a tuple value that only contains the integer 42?"
   ]
  },
  {
   "cell_type": "code",
   "execution_count": 24,
   "id": "20e005e9",
   "metadata": {},
   "outputs": [
    {
     "data": {
      "text/plain": [
       "tuple"
      ]
     },
     "execution_count": 24,
     "metadata": {},
     "output_type": "execute_result"
    }
   ],
   "source": [
    "t=(42,) \n",
    "type(t)"
   ]
  },
  {
   "cell_type": "markdown",
   "id": "d9220305",
   "metadata": {},
   "source": [
    "15)How do you get a list value's tuple form? How do you get a tuple value's list form?"
   ]
  },
  {
   "cell_type": "code",
   "execution_count": 28,
   "id": "c07d66a6",
   "metadata": {},
   "outputs": [
    {
     "name": "stdout",
     "output_type": "stream",
     "text": [
      "<class 'tuple'>\n",
      "<class 'list'>\n"
     ]
    }
   ],
   "source": [
    "check1 = tuple([1,2,3,4,5])\n",
    "print(type(check1))\n",
    "check2 = (1,2,3,45,6)\n",
    "check3 = list(check2)\n",
    "print(type(check3))"
   ]
  },
  {
   "cell_type": "markdown",
   "id": "cea4d5c2",
   "metadata": {},
   "source": [
    "16) Variables that \"contain\" list values are not necessarily lists themselves. Instead, what do they contain?"
   ]
  },
  {
   "cell_type": "markdown",
   "id": "6062a039",
   "metadata": {},
   "source": [
    "They basically contains refrences to list vaues rather tha list themselves.\n",
    "Python uses references whenever variables must store values of mutable data types, such as lists or dictionaries. \n",
    "For values of immutable data types such as strings, integers, or tuples, Python variables will store the value itself."
   ]
  },
  {
   "cell_type": "markdown",
   "id": "1210e53f",
   "metadata": {},
   "source": [
    "17) How do you distinguish between copy.copy() and copy.deepcopy()?"
   ]
  },
  {
   "cell_type": "markdown",
   "id": "37b423ab",
   "metadata": {},
   "source": [
    "copy.copy() is shallow copy . In shallow copy the copied object contains references to the child objects of the original object while copy.deepcopy() is completely independent of the original object."
   ]
  },
  {
   "cell_type": "code",
   "execution_count": null,
   "id": "7c3dde56",
   "metadata": {},
   "outputs": [],
   "source": []
  }
 ],
 "metadata": {
  "kernelspec": {
   "display_name": "Python 3 (ipykernel)",
   "language": "python",
   "name": "python3"
  },
  "language_info": {
   "codemirror_mode": {
    "name": "ipython",
    "version": 3
   },
   "file_extension": ".py",
   "mimetype": "text/x-python",
   "name": "python",
   "nbconvert_exporter": "python",
   "pygments_lexer": "ipython3",
   "version": "3.9.7"
  }
 },
 "nbformat": 4,
 "nbformat_minor": 5
}
