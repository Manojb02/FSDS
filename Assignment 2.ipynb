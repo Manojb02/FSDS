{
 "cells": [
  {
   "cell_type": "code",
   "execution_count": null,
   "metadata": {},
   "outputs": [],
   "source": [
    "1) What are the two values of the Boolean data type? How do you write them?\n",
    "\n",
    "Two values are True and False . Generally it is used to represnt the truth values of expression.\n",
    "eg \n",
    "a= 10\n",
    "if a>6\n",
    "O/P True"
   ]
  },
  {
   "cell_type": "code",
   "execution_count": null,
   "metadata": {},
   "outputs": [],
   "source": [
    "2)What are the three different types of Boolean operators?\n",
    "\n",
    "AND : in this all the expression should be True\n",
    "OR: In this any of the expression should be True\n",
    "NOT : for Toggle"
   ]
  },
  {
   "cell_type": "code",
   "execution_count": null,
   "metadata": {},
   "outputs": [],
   "source": [
    "3) Make a list of each Boolean operator's truth tables (i.e. every possible combination of Boolean\n",
    "values for the operator and what it evaluate ).\n",
    "\n",
    "A       B        A and B\n",
    "False  False   False\n",
    "True   True    True\n",
    "True   False   False\n",
    "False  True    False\n",
    "\n",
    "A       B        A or B\n",
    "False  False   False\n",
    "True   True    True\n",
    "True   False   True\n",
    "False  True    True\n",
    "\n",
    "A       not A        \n",
    "False  True   \n",
    "True   False    \n",
    "True   False   \n",
    "False  True    "
   ]
  },
  {
   "cell_type": "code",
   "execution_count": null,
   "metadata": {},
   "outputs": [],
   "source": [
    "4) What are the values of the following expressions\n",
    "\n",
    "(5 > 4) and (3 == 5)                   False\n",
    "not (5 > 4)                            False\n",
    "(5 > 4) or (3 == 5)                    True\n",
    "not ((5 > 4) or (3 == 5))              False\n",
    "(True and True) and (True == False)    False\n",
    "(not False) or (not True)              True"
   ]
  },
  {
   "cell_type": "code",
   "execution_count": null,
   "metadata": {},
   "outputs": [],
   "source": [
    "5) What are the six comparison operators?\n",
    "\n",
    "The six comparision operation are :\n",
    "    \n",
    "less than <\n",
    "greater than >\n",
    "less than or equal to <=\n",
    "greater than or equal to >=\n",
    "equal to =\n",
    "Not equal to !="
   ]
  },
  {
   "cell_type": "code",
   "execution_count": null,
   "metadata": {},
   "outputs": [],
   "source": [
    "6) How do you tell the difference between the equal to and assignment operators?Describe a condition and \n",
    "when you would use one.\n",
    "\n",
    "The assignment operator(=) is use to assign a value to a variable whearas the  assigment operator (==) is a condition to check \n",
    "whether LHS is equal to RHS or not.\n",
    "a = 10 assigns value 10 to variable a . a==10 In this it is checking condition wheather a is equal to 10 or not.\n"
   ]
  },
  {
   "cell_type": "code",
   "execution_count": null,
   "metadata": {},
   "outputs": [],
   "source": [
    "7)Identify the three blocks in this code:\n",
    "\n",
    "spam = 0\n",
    "if spam == 10:\n",
    "print('eggs')\n",
    "if spam > 5:\n",
    "print('bacon')\n",
    "else:\n",
    "print('ham')\n",
    "print('spam')\n",
    "print('spam')\n",
    "\n",
    "\n",
    "Block is a collection of code that sits on the same indent.\n",
    "The three blocks are everything inside the if statement and the else statement\n",
    "print('eggs')\n",
    "if spam > 5:\n",
    "print('bacon')\n",
    "else:\n",
    "print('ham')\n",
    "print('spam')"
   ]
  },
  {
   "cell_type": "code",
   "execution_count": null,
   "metadata": {},
   "outputs": [],
   "source": [
    "8) Write code that prints Hello if 1 is stored in spam, prints Howdy if 2 is stored in spam, \n",
    "and prints Greetings! if anything else is stored in spam.\n",
    "\n",
    "\n",
    "spam = int(input(\"Type Number\"))\n",
    "if spam==1:\n",
    "    print(\"Hello\")\n",
    "elif spam== 2:\n",
    "    print(\"Howdy\")\n",
    "else:\n",
    "    print(\"Greetings!\")"
   ]
  },
  {
   "cell_type": "code",
   "execution_count": null,
   "metadata": {},
   "outputs": [],
   "source": [
    "9) If your programme is stuck in an endless loop, what keys you’ll press?\n",
    "\n",
    "TRL + C can be used to exit from Infinte loop or we can click on interrupt the kernel"
   ]
  },
  {
   "cell_type": "code",
   "execution_count": null,
   "metadata": {},
   "outputs": [],
   "source": [
    "10) How can you tell the difference between break and continue?\n",
    "\n",
    "In python break statement immediately terminate the loop and comes out of the immedite loop while continue statement is opposite \n",
    "the break statement forces to execute the next iteration of the loop. ... When the continue statement is executed in the \n",
    "loop, the code inside the loop following the continue statement will be skipped and next iteration of the loop will begin."
   ]
  },
  {
   "cell_type": "code",
   "execution_count": null,
   "metadata": {},
   "outputs": [],
   "source": [
    "11) In a for loop, what is the difference between range(10), range(0, 10), and range(0, 10, 1)?\n",
    "\n",
    "range(10)         It will start from number 0 and iterate till 9 \n",
    "range(0,10)       It will start from number 0 and iterate till 9 as the default starting number is 0 \n",
    "range(0,10,1)     It will start from number 0 and iterate till 9 as default step size is 1\n",
    "\n",
    "So all the three out put will give the same result."
   ]
  },
  {
   "cell_type": "code",
   "execution_count": null,
   "metadata": {},
   "outputs": [],
   "source": [
    "12)  Write a short program that prints the numbers 1 to 10 using a for loop. Then write an equivalent\n",
    "program that prints the numbers 1 to 10 using a while loop."
   ]
  },
  {
   "cell_type": "code",
   "execution_count": 2,
   "metadata": {},
   "outputs": [
    {
     "name": "stdout",
     "output_type": "stream",
     "text": [
      "1\n",
      "2\n",
      "3\n",
      "4\n",
      "5\n",
      "6\n",
      "7\n",
      "8\n",
      "9\n",
      "10\n"
     ]
    }
   ],
   "source": [
    "for i in range (1,11):\n",
    "    print(i)"
   ]
  },
  {
   "cell_type": "code",
   "execution_count": 7,
   "metadata": {},
   "outputs": [
    {
     "name": "stdout",
     "output_type": "stream",
     "text": [
      "1\n",
      "2\n",
      "3\n",
      "4\n",
      "5\n",
      "6\n",
      "7\n",
      "8\n",
      "9\n",
      "10\n"
     ]
    }
   ],
   "source": [
    "a =0\n",
    "while a<10:\n",
    "    a= a+1\n",
    "    print (a)\n",
    "    "
   ]
  },
  {
   "cell_type": "code",
   "execution_count": null,
   "metadata": {},
   "outputs": [],
   "source": [
    "13) If you had a function named bacon() inside a module named spam, how would you call it after importing spam?\n",
    "\n",
    "The function can be called with spam.bacon()"
   ]
  },
  {
   "cell_type": "code",
   "execution_count": null,
   "metadata": {},
   "outputs": [],
   "source": []
  }
 ],
 "metadata": {
  "kernelspec": {
   "display_name": "Python 3",
   "language": "python",
   "name": "python3"
  },
  "language_info": {
   "codemirror_mode": {
    "name": "ipython",
    "version": 3
   },
   "file_extension": ".py",
   "mimetype": "text/x-python",
   "name": "python",
   "nbconvert_exporter": "python",
   "pygments_lexer": "ipython3",
   "version": "3.7.4"
  }
 },
 "nbformat": 4,
 "nbformat_minor": 2
}
