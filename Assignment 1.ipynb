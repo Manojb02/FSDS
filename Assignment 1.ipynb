{
 "cells": [
  {
   "cell_type": "code",
   "execution_count": null,
   "metadata": {},
   "outputs": [],
   "source": [
    "1) Among the below mentioned elements \n",
    "*         Epression \n",
    "\"hello\"   Values\n",
    "-87.8     Values\n",
    "-         Epression\n",
    "/         Epression\n",
    "+         Epression\n",
    "6         Values"
   ]
  },
  {
   "cell_type": "code",
   "execution_count": null,
   "metadata": {},
   "outputs": [],
   "source": [
    "2) What is the difference between string and variable?\n",
    "\n",
    "String : String is a data type use for textual data . String in python is denotated in under one single and 2 single quotes.\n",
    "    String can be leter and number  if under one single and 2 single quote\n",
    "    eg \"Manoj\" , \"21\"\n",
    "\n",
    "Variable : Varible is use to store the value in a memory and use for reference in later code.\n",
    "    eg a= 10 now a is set for 10 and we can use a to refer 10."
   ]
  },
  {
   "cell_type": "code",
   "execution_count": null,
   "metadata": {},
   "outputs": [],
   "source": [
    "3) Describe the three diffeerent data types.\n",
    " a) Numeric : It represents the data which has numeric value either can be integer , floting number or a complex number .\n",
    "\n",
    " b)Sequence :Sequences allow you to store multiple values in an organized and efficient fashion.There are several sequence\n",
    "    types: strings, Unicode strings, lists, tuples\n",
    "        \n",
    " c)Boolean :The truth values of an expression is stored as a python data type called bool. There are only two such values in \n",
    "   this data type. True and False."
   ]
  },
  {
   "cell_type": "code",
   "execution_count": null,
   "metadata": {},
   "outputs": [],
   "source": [
    "4) What is an expression made up of? What do all expressions do?\n",
    "An expression is a combination of values, variables, operators, and calls to functions. Expressions need to be evaluated. \n",
    "If you ask Python to print an expression, the interpreter evaluates the expression and displays the result\n"
   ]
  },
  {
   "cell_type": "code",
   "execution_count": null,
   "metadata": {},
   "outputs": [],
   "source": [
    "5) This assignment statements, like spam = 10. What is the difference between an expression and a statement?\n",
    "Statements represent an action or command e.g print statements, assignment statements. Expression is a combination of \n",
    "variables, operations and values that yields a result value. An expression is something that can be reduced to a value\n",
    "so spam =10 is an statement which doesn't provide any result and 10+2 is an expression"
   ]
  },
  {
   "cell_type": "code",
   "execution_count": null,
   "metadata": {},
   "outputs": [],
   "source": [
    "6) After running the following code, what does the variable bacon contain?\n",
    "bacon = 22\n",
    "bacon + 1\n",
    "\n",
    "bacon would be 23 ad after increment of 1"
   ]
  },
  {
   "cell_type": "code",
   "execution_count": null,
   "metadata": {},
   "outputs": [],
   "source": [
    "7)  What should the values of the following two terms be?\n",
    "'spam' + 'spamspam'\n",
    "'spam' * 3\n",
    "\n",
    "first expression \"spamspamspam\" as an string prefix spam to spamspam\n",
    "second expression \"spamspamspam\" as spam will in combination of 3 spam"
   ]
  },
  {
   "cell_type": "code",
   "execution_count": null,
   "metadata": {},
   "outputs": [],
   "source": [
    "8)  Why is eggs a valid variable name while 100 is invalid?\n",
    "Because eggs starts with an alphabet while 100 starts with an interger .For a valid  variable it should start with an alphabet \n",
    "and contain integer along with underscore."
   ]
  },
  {
   "cell_type": "code",
   "execution_count": null,
   "metadata": {},
   "outputs": [],
   "source": [
    "9) What three functions can be used to get the integer, floating-point number, or string version of a value?\n",
    "\n",
    "int(), float() and str()"
   ]
  },
  {
   "cell_type": "code",
   "execution_count": null,
   "metadata": {},
   "outputs": [],
   "source": [
    "10) Why does this expression cause an error? How can you fix it?\n",
    "'I have eaten ' + 99 + ' burritos.'\n",
    "\n",
    "As it is a summatin of str and int which is not possible in python . Either str + str or int+int is required.\n",
    "We can fix the above problem by converting 99 to string \"99\""
   ]
  }
 ],
 "metadata": {
  "kernelspec": {
   "display_name": "Python 3",
   "language": "python",
   "name": "python3"
  },
  "language_info": {
   "codemirror_mode": {
    "name": "ipython",
    "version": 3
   },
   "file_extension": ".py",
   "mimetype": "text/x-python",
   "name": "python",
   "nbconvert_exporter": "python",
   "pygments_lexer": "ipython3",
   "version": "3.7.4"
  }
 },
 "nbformat": 4,
 "nbformat_minor": 2
}
